{
 "cells": [
  {
   "cell_type": "code",
   "execution_count": 57,
   "metadata": {},
   "outputs": [],
   "source": [
    "import pandas as pd\n",
    "import random\n",
    "from sklearn import preprocessing\n",
    "from sklearn.model_selection import train_test_split\n",
    "from sklearn.metrics import accuracy_score, f1_score, precision_score, recall_score\n",
    "import numpy as np"
   ]
  },
  {
   "cell_type": "code",
   "execution_count": 77,
   "metadata": {},
   "outputs": [],
   "source": [
    "def h(p):\n",
    "        h = 0 \n",
    "        for k in range(2):\n",
    "            h += p[k] * (1-p[k])\n",
    "        return h\n",
    "    \n",
    "    \n",
    "def p(y, cc=2):\n",
    "        p = []\n",
    "        for i in range(cc):\n",
    "            p.append(0)\n",
    "            for Y in y:\n",
    "                if Y == i:\n",
    "                    p[i] += 1 \n",
    "                        \n",
    "            p[i] = p[i] / len(y)       \n",
    "        \n",
    "        return p\n",
    "    \n",
    "\n",
    "def gini(slice, df):\n",
    "    \"\"\"\n",
    "    Gini impurity\n",
    "    \"\"\"\n",
    "        \n",
    "    # for i in range(class_count):       \n",
    "    q_left = df[df[df.columns[0]] < slice]['y']     \n",
    "    q_right = df[df[df.columns[0]] >= slice]['y']\n",
    "    \n",
    "    if len(q_left) == 0 or len(q_right) == 0:\n",
    "        # not a slice\n",
    "        return [-1, 1, 1]\n",
    "    \n",
    "    p_left = p(q_left)\n",
    "    h_left = h(p_left)\n",
    "\n",
    "    p_right = p(q_right)\n",
    "    h_right = h(p_right)\n",
    "\n",
    "    q_left = len(q_left) / len(df)\n",
    "    q_right = len(q_right) / len(df)       \n",
    "    \n",
    "    IG = h(p(df['y'])) - q_left * h_left - q_right * h_right\n",
    "        \n",
    "    #print(f'GINI || Q_LEFT: {q_left} | Q_RIGHT: {q_right} | P_LEFT: {p_left}')       \n",
    "\n",
    "    return [IG, h_left, h_right]\n",
    "    \n",
    "    \n",
    "def best_gini(feature, y):\n",
    "    best = -1\n",
    "    best_slice = -1\n",
    "    best_left = 1\n",
    "    best_right = 1\n",
    "\n",
    "    # can be no devide opportunity\n",
    "    if feature.min() != feature.max():\n",
    "        df = feature.to_frame()\n",
    "        df['y'] = y\n",
    "\n",
    "        # 100 попыток найти лучший gini\n",
    "        for i in range(10):\n",
    "            slice = random.uniform(feature.min(), feature.max())\n",
    "            g = gini(slice, df)\n",
    "\n",
    "            if g[0] > best:\n",
    "                best = g[0]\n",
    "                best_slice = slice\n",
    "                best_left = g[1]\n",
    "                best_right = g[2]\n",
    "    \n",
    "    result = {feature.name: {'gini': best, 'slice': best_slice, 'left': best_left, 'right': best_right}}\n",
    "    #print(result)\n",
    "    return result\n",
    "\n",
    "\n",
    "def node(X, y):  \n",
    "    # apply to every feature\n",
    "    features_gini = X.apply(lambda x: best_gini(x, y))\n",
    "    \n",
    "    best_feature = {'gini': 0}\n",
    "    \n",
    "    df = X\n",
    "    df['y'] = y\n",
    "    \n",
    "    for f in features_gini:\n",
    "        for key, value in f.items():\n",
    "            if value['gini'] > best_feature['gini']:\n",
    "                best_feature['name'] = key\n",
    "                best_feature['slice'] = value['slice']\n",
    "                best_feature['gini'] = value['gini']\n",
    "                best_feature['h_left'] = value['left']\n",
    "                best_feature['h_right'] = value['right']\n",
    "                \n",
    "            # we have the final node!\n",
    "            if value['gini'] == 0:\n",
    "                left = df[df[key] < value['slice']]\n",
    "                dleft = left['y'].iloc[0]\n",
    "                right = df[df[key] >= value['slice']]\n",
    "                dright = right['y'].iloc[0]\n",
    "                print('STOP!!!')\n",
    "                print(f'Left way is desicion: Class #{dleft}')\n",
    "                print(f'Right way is desicion: Class #{dright}')\n",
    "                \n",
    "                return {'feature': key, 'slice': value['slice'], 'left': dleft, 'right': dright} \n",
    "                \n",
    "    \n",
    "    # still there is \n",
    "    #if best_feature['gini'] > 0 :\n",
    "    print('Best step feature: ' + str(best_feature['name']) + ' | slice: ' + str(best_feature['slice']) + ' | GINI: '  + str(best_feature['gini']))\n",
    "    \n",
    "    #save model\n",
    "    model = {'feature': best_feature['name'], 'slice': best_feature['slice']} \n",
    "    \n",
    "    # left ветка\n",
    "    left = df[df[best_feature['name']] < best_feature['slice']]\n",
    "    if best_feature['h_left'] == 0:\n",
    "        # decision\n",
    "        decision = left['y']\n",
    "        try:\n",
    "            decision = decision.iloc[0]\n",
    "        except:\n",
    "            print(df[best_feature['name']])\n",
    "            print('Trying to slice ', best_feature['slice'])\n",
    "            print('WRONG ', decision)\n",
    "            input()\n",
    "        print(f'Left way is desicion: Class #{decision}')\n",
    "        model['left'] = decision\n",
    "    else:\n",
    "        model['left'] = node(left.drop('y', axis=1), left['y'])\n",
    "    \n",
    "    # right ветка\n",
    "    right = df[df[best_feature['name']] >= best_feature['slice']]\n",
    "    if best_feature['h_right'] == 0:\n",
    "        # decision\n",
    "        decision = right['y']\n",
    "        try:\n",
    "            decision = decision.iloc[0]\n",
    "        except:\n",
    "            print(decision)\n",
    "        print(f'Right way is desicion: Class #{decision}')\n",
    "        model['right'] = decision\n",
    "    else:\n",
    "        model['right'] = node(right.drop('y', axis=1), right['y'])\n",
    "    \n",
    "    return model\n",
    "        \n",
    "    \n",
    "def fit(X,y):\n",
    "    model = node(X,y)\n",
    "    print('==== Model ready!')\n",
    "    return model\n",
    "\n",
    "\n",
    "def predict(model, X):\n",
    "    \"\"\"\n",
    "    And know we will predict class\n",
    "    \"\"\"   \n",
    "    # left \n",
    "    if X[model['feature']] < model['slice']:\n",
    "        # next node\n",
    "        if type(model['left']) == dict:\n",
    "            return predict(model['left'], X)\n",
    "        else:\n",
    "            return model['left']\n",
    "    \n",
    "    # Right\n",
    "    else:\n",
    "        if type(model['right']) == dict:\n",
    "            return predict(model['right'], X)\n",
    "        else:\n",
    "            return model['right']\n",
    "    "
   ]
  },
  {
   "cell_type": "markdown",
   "metadata": {},
   "source": [
    "# Тестовые данные"
   ]
  },
  {
   "cell_type": "code",
   "execution_count": 59,
   "metadata": {},
   "outputs": [],
   "source": [
    "# data for small test\n",
    "\n",
    "df = pd.DataFrame([[5,8,0],[1,3,1],[2,4,0],[3,6,1]])\n",
    "\n",
    "X = df.drop(2, axis=1)\n",
    "y = df[2]"
   ]
  },
  {
   "cell_type": "code",
   "execution_count": 60,
   "metadata": {},
   "outputs": [],
   "source": [
    "# pental data\n",
    "\n",
    "from sklearn import datasets\n",
    "iris = datasets.load_iris()\n",
    "\n",
    "prepare_data = pd.DataFrame(iris.data)\n",
    "prepare_data['class'] = iris.target\n",
    "\n",
    "# remove third class\n",
    "prepare_data = prepare_data[prepare_data['class'] != 2] \n",
    "\n",
    "X = prepare_data.drop('class', axis=1)\n",
    "y = prepare_data['class']"
   ]
  },
  {
   "cell_type": "markdown",
   "metadata": {},
   "source": [
    "# Данные от такси"
   ]
  },
  {
   "cell_type": "code",
   "execution_count": 79,
   "metadata": {},
   "outputs": [],
   "source": [
    "# simple prediciton. taxi driver response base on service class\n",
    "dset = pd.read_csv('taxi_tree.csv')\n",
    "X = dset.drop(['driver_response', 'close_to_driver', 'close_to_client'], axis = 1)\n",
    "y = dset['driver_response']\n",
    "\n",
    "# huge test size, because fit is quite slow without branch limiting \n",
    "X_train, X_test, y_train, y_test = train_test_split(X, y, test_size=0.99, random_state=42)\n",
    "\n",
    "#min_max_scaler = preprocessing.MinMaxScaler()\n",
    "#X = pd.DataFrame(min_max_scaler.fit_transform(X))"
   ]
  },
  {
   "cell_type": "code",
   "execution_count": null,
   "metadata": {},
   "outputs": [],
   "source": [
    "model = fit(X_train,y_train)"
   ]
  },
  {
   "cell_type": "code",
   "execution_count": 63,
   "metadata": {},
   "outputs": [],
   "source": [
    "#print('Predict ',predict(model, X_test.iloc[18]))\n",
    "#print('Real class is ', y_test.iloc[18])\n",
    "\n",
    "#prediction = []\n",
    "\n",
    "#for i in range(len(X_test)):\n",
    "#    x = X_test.iloc[i]\n",
    "#    prediction.append(predict(model, x))"
   ]
  },
  {
   "cell_type": "markdown",
   "metadata": {},
   "source": [
    "# OUR PREDICTION"
   ]
  },
  {
   "cell_type": "code",
   "execution_count": 81,
   "metadata": {},
   "outputs": [],
   "source": [
    "def convert_x(_x, X):\n",
    "    \"\"\"\n",
    "    We need dictionary to pass in predict function\n",
    "    \"\"\"\n",
    "    result = {}\n",
    "    \n",
    "    col = [x for x in X_test.columns]\n",
    "    \n",
    "    for i in range(len(col)):\n",
    "        result[col[i]] = _x[i]\n",
    "    \n",
    "    return result\n",
    "        \n",
    "    \n",
    "pred = X_test.copy()\n",
    "pred['y'] = pred.apply(lambda x: predict(model, convert_x(x, X)), axis=1)"
   ]
  },
  {
   "cell_type": "markdown",
   "metadata": {},
   "source": [
    "# Скорим нашу модель"
   ]
  },
  {
   "cell_type": "code",
   "execution_count": 88,
   "metadata": {},
   "outputs": [
    {
     "name": "stdout",
     "output_type": "stream",
     "text": [
      "Metrics\n",
      "F1:  0.6715467877388039\n",
      "Accuracy score 0.671830985915493\n",
      "Precision score 0.6717975530742233\n",
      "Recall score 0.6715305991653969\n"
     ]
    }
   ],
   "source": [
    "print('Metrics')\n",
    "print('F1: ', f1_score(y_test, pred['y'], average=\"macro\"))\n",
    "print('Accuracy score', accuracy_score(y_test, pred['y']))\n",
    "print('Precision score', precision_score(y_test, pred['y'], average=\"macro\"))\n",
    "print('Recall score', recall_score(y_test, pred['y'], average=\"macro\"))"
   ]
  },
  {
   "cell_type": "markdown",
   "metadata": {},
   "source": [
    "## Неплохая точность с учетом того, что мы брали только 1% выборки для обучения\n",
    "\n",
    "Точно не скажешь, что модель переучена :)"
   ]
  },
  {
   "cell_type": "markdown",
   "metadata": {},
   "source": [
    "# Вопросы к преподавателю\n",
    "\n",
    "Правильно ли я ставлю условия выхода? По Gini = 0, Hleft = 0, hright = 0?"
   ]
  }
 ],
 "metadata": {
  "kernelspec": {
   "display_name": "Python 3",
   "language": "python",
   "name": "python3"
  },
  "language_info": {
   "codemirror_mode": {
    "name": "ipython",
    "version": 3
   },
   "file_extension": ".py",
   "mimetype": "text/x-python",
   "name": "python",
   "nbconvert_exporter": "python",
   "pygments_lexer": "ipython3",
   "version": "3.7.4"
  }
 },
 "nbformat": 4,
 "nbformat_minor": 2
}
