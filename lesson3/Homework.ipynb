{
 "cells": [
  {
   "cell_type": "code",
   "execution_count": 52,
   "metadata": {},
   "outputs": [],
   "source": [
    "import pandas as pd\n",
    "import random\n",
    "from sklearn import preprocessing\n",
    "from sklearn.model_selection import train_test_split\n",
    "from sklearn.metrics import accuracy_score, f1_score, precision_score, recall_score\n",
    "import numpy as np"
   ]
  },
  {
   "cell_type": "code",
   "execution_count": 53,
   "metadata": {},
   "outputs": [],
   "source": [
    "class DenisTree:\n",
    "    \n",
    "    def __init__(self):\n",
    "        self.class_count = 2\n",
    "        self.model = {}\n",
    "    \n",
    "    def h(self, p):\n",
    "            h = 0 \n",
    "            for k in range(2):\n",
    "                h += p[k] * (1-p[k])\n",
    "            return h\n",
    "\n",
    "\n",
    "    def p(self, y):\n",
    "            p = []\n",
    "            for i in range(self.class_count):\n",
    "                p.append(0)\n",
    "                for Y in y:\n",
    "                    if Y == i:\n",
    "                        p[i] += 1 \n",
    "\n",
    "                p[i] = p[i] / len(y)       \n",
    "\n",
    "            return p\n",
    "\n",
    "\n",
    "    def gini(self, slice, df):\n",
    "        \"\"\"\n",
    "        Gini impurity\n",
    "        \"\"\"\n",
    "\n",
    "        # for i in range(class_count):       \n",
    "        q_left = df[df[df.columns[0]] < slice]['y']     \n",
    "        q_right = df[df[df.columns[0]] >= slice]['y']\n",
    "\n",
    "        if len(q_left) == 0 or len(q_right) == 0:\n",
    "            # not a slice\n",
    "            return [-1, 1, 1]\n",
    "\n",
    "        p_left = self.p(q_left)\n",
    "        h_left = self.h(p_left)\n",
    "\n",
    "        p_right = self.p(q_right)\n",
    "        h_right = self.h(p_right)\n",
    "\n",
    "        q_left = len(q_left) / len(df)\n",
    "        q_right = len(q_right) / len(df)       \n",
    "\n",
    "        IG = self.h(self.p(df['y'])) - q_left * h_left - q_right * h_right\n",
    "\n",
    "        #print(f'GINI || Q_LEFT: {q_left} | Q_RIGHT: {q_right} | P_LEFT: {p_left}')       \n",
    "\n",
    "        return [IG, h_left, h_right]\n",
    "\n",
    "\n",
    "    def best_gini(self, feature, y):\n",
    "        best = -1\n",
    "        best_slice = -1\n",
    "        best_left = 1\n",
    "        best_right = 1\n",
    "\n",
    "        # can be no devide opportunity\n",
    "        if feature.min() != feature.max():\n",
    "            df = feature.to_frame()\n",
    "            df['y'] = y\n",
    "\n",
    "            # 100 попыток найти лучший gini\n",
    "            for i in range(10):\n",
    "                slice = random.uniform(feature.min(), feature.max())\n",
    "                g = self.gini(slice, df)\n",
    "\n",
    "                if g[0] > best:\n",
    "                    best = g[0]\n",
    "                    best_slice = slice\n",
    "                    best_left = g[1]\n",
    "                    best_right = g[2]\n",
    "\n",
    "        result = {feature.name: {'gini': best, 'slice': best_slice, 'left': best_left, 'right': best_right}}\n",
    "        #print(result)\n",
    "        return result\n",
    "\n",
    "\n",
    "    def node(self, X, y):  \n",
    "        # apply to every feature\n",
    "        features_gini = X.apply(lambda x: self.best_gini(x, y))\n",
    "\n",
    "        best_feature = {'gini': 0}\n",
    "\n",
    "        df = X\n",
    "        df['y'] = y\n",
    "\n",
    "        for f in features_gini:\n",
    "            for key, value in f.items():\n",
    "                if value['gini'] > best_feature['gini']:\n",
    "                    best_feature['name'] = key\n",
    "                    best_feature['slice'] = value['slice']\n",
    "                    best_feature['gini'] = value['gini']\n",
    "                    best_feature['h_left'] = value['left']\n",
    "                    best_feature['h_right'] = value['right']\n",
    "\n",
    "                # we have the final node!\n",
    "                if value['gini'] == 0:\n",
    "                    left = df[df[key] < value['slice']]\n",
    "                    dleft = left['y'].iloc[0]\n",
    "                    right = df[df[key] >= value['slice']]\n",
    "                    dright = right['y'].iloc[0]\n",
    "                    print('STOP!!!')\n",
    "                    print(f'Left way is desicion: Class #{dleft}')\n",
    "                    print(f'Right way is desicion: Class #{dright}')\n",
    "\n",
    "                    return {'feature': key, 'slice': value['slice'], 'left': dleft, 'right': dright} \n",
    "\n",
    "\n",
    "        # still there is \n",
    "        #if best_feature['gini'] > 0 :\n",
    "        print('Best step feature: ' + str(best_feature['name']) + ' | slice: ' + str(best_feature['slice']) + ' | GINI: '  + str(best_feature['gini']))\n",
    "\n",
    "        #save model\n",
    "        model = {'feature': best_feature['name'], 'slice': best_feature['slice']} \n",
    "\n",
    "        # left ветка\n",
    "        left = df[df[best_feature['name']] < best_feature['slice']]\n",
    "        if best_feature['h_left'] == 0:\n",
    "            # decision\n",
    "            decision = left['y']\n",
    "            try:\n",
    "                decision = decision.iloc[0]\n",
    "            except:\n",
    "                print(df[best_feature['name']])\n",
    "                print('Trying to slice ', best_feature['slice'])\n",
    "                print('WRONG ', decision)\n",
    "                input()\n",
    "            print(f'Left way is desicion: Class #{decision}')\n",
    "            model['left'] = decision\n",
    "        else:\n",
    "            model['left'] = self.node(left.drop('y', axis=1), left['y'])\n",
    "\n",
    "        # right ветка\n",
    "        right = df[df[best_feature['name']] >= best_feature['slice']]\n",
    "        if best_feature['h_right'] == 0:\n",
    "            # decision\n",
    "            decision = right['y']\n",
    "            try:\n",
    "                decision = decision.iloc[0]\n",
    "            except:\n",
    "                print(decision)\n",
    "            print(f'Right way is desicion: Class #{decision}')\n",
    "            model['right'] = decision\n",
    "        else:\n",
    "            model['right'] = self.node(right.drop('y', axis=1), right['y'])\n",
    "\n",
    "        return model\n",
    "\n",
    "\n",
    "    def fit(self, X, y):\n",
    "        self.class_count = len(y.value_counts())\n",
    "        print('Class count ', self.class_count)\n",
    "        self.model = self.node(X,y)\n",
    "        print('==== Model ready!')\n",
    "        \n",
    "    def __predict(self, model, X):\n",
    "        # left \n",
    "        if X[model['feature']] < model['slice']:\n",
    "            # next node\n",
    "            if type(model['left']) == dict:\n",
    "                return self.__predict(model['left'], X)\n",
    "            else:\n",
    "                return model['left']\n",
    "\n",
    "        # Right\n",
    "        else:\n",
    "            if type(model['right']) == dict:\n",
    "                return self.__predict(model['right'], X)\n",
    "            else:\n",
    "                return model['right']\n",
    "\n",
    "    def predict(self, X):\n",
    "        \"\"\"\n",
    "        And know we will predict class\n",
    "        \"\"\"   \n",
    "        return self.__predict(self.model, X)\n",
    "    "
   ]
  },
  {
   "cell_type": "markdown",
   "metadata": {},
   "source": [
    "# Ирисы"
   ]
  },
  {
   "cell_type": "code",
   "execution_count": 87,
   "metadata": {},
   "outputs": [],
   "source": [
    "# pental data\n",
    "\n",
    "from sklearn import datasets\n",
    "iris = datasets.load_iris()\n",
    "\n",
    "X = pd.DataFrame(iris.data)\n",
    "y = pd.Series(iris.target)"
   ]
  },
  {
   "cell_type": "markdown",
   "metadata": {},
   "source": [
    "# Данные от такси\n",
    "\n",
    "Load data from my qualification work. See github Midriaz/python"
   ]
  },
  {
   "cell_type": "code",
   "execution_count": 81,
   "metadata": {},
   "outputs": [],
   "source": [
    "# simple prediciton. taxi driver response base on service class\n",
    "dset = pd.read_csv('taxi_tree.csv')\n",
    "X = dset.drop(['driver_response', 'close_to_driver', 'close_to_client'], axis = 1)\n",
    "y = dset['driver_response']\n",
    "\n",
    "#min_max_scaler = preprocessing.MinMaxScaler()\n",
    "#X = pd.DataFrame(min_max_scaler.fit_transform(X))"
   ]
  },
  {
   "cell_type": "code",
   "execution_count": 66,
   "metadata": {},
   "outputs": [],
   "source": []
  },
  {
   "cell_type": "markdown",
   "metadata": {},
   "source": [
    "# Учим нашу модель"
   ]
  },
  {
   "cell_type": "code",
   "execution_count": 88,
   "metadata": {},
   "outputs": [
    {
     "name": "stdout",
     "output_type": "stream",
     "text": [
      "Class count  3\n",
      "Best step feature: 2 | slice: 1.9932106102239096 | GINI: 0.2805902777777778\n",
      "Left way is desicion: Class #0\n",
      "Best step feature: 2 | slice: 4.748384207151906 | GINI: 0.18244902969830298\n",
      "Best step feature: 3 | slice: 1.6118637965068263 | GINI: 0.02629656683710733\n"
     ]
    },
    {
     "name": "stderr",
     "output_type": "stream",
     "text": [
      "C:\\Code\\Anaconda\\lib\\site-packages\\ipykernel_launcher.py:90: SettingWithCopyWarning: \n",
      "A value is trying to be set on a copy of a slice from a DataFrame.\n",
      "Try using .loc[row_indexer,col_indexer] = value instead\n",
      "\n",
      "See the caveats in the documentation: http://pandas.pydata.org/pandas-docs/stable/user_guide/indexing.html#returning-a-view-versus-a-copy\n"
     ]
    },
    {
     "name": "stdout",
     "output_type": "stream",
     "text": [
      "Left way is desicion: Class #1\n",
      "Right way is desicion: Class #2\n",
      "Best step feature: 3 | slice: 1.774215808380236 | GINI: 0.033655257668237654\n",
      "Best step feature: 2 | slice: 5.1486793998163165 | GINI: 0.08333333333333331\n",
      "Best step feature: 1 | slice: 2.418637802927986 | GINI: 0.0888888888888889\n",
      "Left way is desicion: Class #2\n",
      "Best step feature: 2 | slice: 5.041636874585465 | GINI: 0.05999999999999997\n",
      "Left way is desicion: Class #1\n",
      "Best step feature: 0 | slice: 6.203667925467657 | GINI: 0.25\n",
      "Left way is desicion: Class #1\n",
      "Right way is desicion: Class #2\n",
      "Right way is desicion: Class #2\n",
      "Best step feature: 0 | slice: 6.040673028486875 | GINI: 0.0027551020408163283\n",
      "Best step feature: 1 | slice: 3.035416677242385 | GINI: 0.109375\n",
      "Left way is desicion: Class #2\n",
      "Right way is desicion: Class #1\n",
      "Right way is desicion: Class #2\n",
      "==== Model ready!\n"
     ]
    }
   ],
   "source": [
    "X_train, X_test, y_train, y_test = train_test_split(X, y, test_size=0.2, random_state=42)\n",
    "\n",
    "model = DenisTree()\n",
    "model.fit(X_train, y_train)"
   ]
  },
  {
   "cell_type": "markdown",
   "metadata": {},
   "source": [
    "# OUR PREDICTION"
   ]
  },
  {
   "cell_type": "code",
   "execution_count": 89,
   "metadata": {},
   "outputs": [],
   "source": [
    "def convert_x(_x, X):\n",
    "    \"\"\"\n",
    "    We need dictionary to pass in predict function\n",
    "    \"\"\"\n",
    "    result = {}\n",
    "    \n",
    "    col = [x for x in X.columns]\n",
    "    \n",
    "    for i in range(len(col)):\n",
    "        result[col[i]] = _x[i]\n",
    "    \n",
    "    return result\n",
    "        \n",
    "    \n",
    "pred = X_test.copy()\n",
    "pred['y'] = pred.apply(lambda x: model.predict(convert_x(x, X_test)), axis=1)"
   ]
  },
  {
   "cell_type": "markdown",
   "metadata": {},
   "source": [
    "# Скорим нашу модель"
   ]
  },
  {
   "cell_type": "code",
   "execution_count": 90,
   "metadata": {},
   "outputs": [
    {
     "name": "stdout",
     "output_type": "stream",
     "text": [
      "Metrics\n",
      "F1:  1.0\n",
      "Accuracy score 1.0\n",
      "Precision score 1.0\n",
      "Recall score 1.0\n"
     ]
    }
   ],
   "source": [
    "print('Metrics')\n",
    "print('F1: ', f1_score(y_test, pred['y'], average=\"macro\"))\n",
    "print('Accuracy score', accuracy_score(y_test, pred['y']))\n",
    "print('Precision score', precision_score(y_test, pred['y'], average=\"macro\"))\n",
    "print('Recall score', recall_score(y_test, pred['y'], average=\"macro\"))"
   ]
  },
  {
   "cell_type": "markdown",
   "metadata": {},
   "source": [
    "## Неплохая точность с учетом того, что мы брали только 1% выборки для обучения\n",
    "\n",
    "Точно не скажешь, что модель переучена :)"
   ]
  },
  {
   "cell_type": "markdown",
   "metadata": {},
   "source": [
    "# Вопросы к преподавателю\n",
    "\n",
    "Правильно ли я ставлю условия выхода? По Gini = 0, Hleft = 0, hright = 0?"
   ]
  }
 ],
 "metadata": {
  "kernelspec": {
   "display_name": "Python 3",
   "language": "python",
   "name": "python3"
  },
  "language_info": {
   "codemirror_mode": {
    "name": "ipython",
    "version": 3
   },
   "file_extension": ".py",
   "mimetype": "text/x-python",
   "name": "python",
   "nbconvert_exporter": "python",
   "pygments_lexer": "ipython3",
   "version": "3.7.4"
  }
 },
 "nbformat": 4,
 "nbformat_minor": 2
}
