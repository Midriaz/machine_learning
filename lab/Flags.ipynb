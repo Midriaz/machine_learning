{
 "cells": [
  {
   "cell_type": "markdown",
   "metadata": {},
   "source": [
    "Google translated task:\n",
    "Laboratory work on the module \" building models”\n",
    "1. Upload data from the Data Folder folder\n",
    "2. To conduct a descriptive analysis of the proposed data\n",
    "3. Suggest a strategy for working with categorical variables\n",
    "4. Conduct an in-depth analysis of data (correlations of variables, visualization of relationships)\n",
    "5. Should I increase/decrease the dimension of the feature set (which approach gives the best results)\n",
    "6. Should classes be balanced by oversampling/undersampling? (does the approach improve results)\n",
    "7. Perform cross-validation of data using the K-fold approach (n_folds=3)\n",
    "8. Solve the problem of multiCLASS classification and predict the country's religion by the details of its flag\n",
    "9. To compute Feature Importances for variables of the model\n",
    "10. Check the quality of classification using the following metrics: Accuracy, F1-Score, Precision, Recall\n",
    "11. Build a Confusion Matrix for your results\n",
    "12. Upload ipython notebook with the results to the github repository\n",
    "* Items that you find difficult or that you don't know can be skipped, but with a note in your laptop that\n",
    "it seemed difficult and incomprehensible at this point for you."
   ]
  },
  {
   "cell_type": "code",
   "execution_count": 112,
   "metadata": {},
   "outputs": [],
   "source": [
    "import pandas as pd\n",
    "from pandas_profiling import ProfileReport\n",
    "\n",
    "from sklearn.ensemble import RandomForestClassifier\n",
    "\n",
    "from sklearn.model_selection import train_test_split\n",
    "from sklearn.model_selection import KFold\n",
    "\n",
    "from imblearn.over_sampling import RandomOverSampler, SMOTE, ADASYN\n",
    "\n",
    "from sklearn.metrics import accuracy_score\n",
    "from sklearn.metrics import f1_score\n",
    "from sklearn.metrics import precision_score\n",
    "from sklearn.metrics import recall_score\n",
    "from sklearn.metrics import confusion_matrix\n",
    "from sklearn.metrics import ConfusionMatrixDisplay\n",
    "\n",
    "import matplotlib.pyplot as plt\n",
    "import mplcyberpunk\n",
    "from pylab import rcParams"
   ]
  },
  {
   "cell_type": "code",
   "execution_count": 113,
   "metadata": {},
   "outputs": [],
   "source": [
    "data = pd.read_csv('flag.data', header=None)\n",
    "data.columns = ['name',\n",
    " 'landmass',\n",
    " 'zone',\n",
    " 'area',\n",
    " 'population',\n",
    " 'language',\n",
    " 'religion',\n",
    " 'bars',\n",
    " 'stripes',\n",
    " 'colours',\n",
    " 'red',\n",
    " 'green',\n",
    " 'blue',\n",
    " 'gold',\n",
    " 'white',\n",
    " 'black',\n",
    " 'orange',\n",
    " 'mainhue',\n",
    " 'circles',\n",
    " 'crosses',\n",
    " 'saltires',\n",
    " 'quarters',\n",
    " 'sunstars',\n",
    " 'crescent',\n",
    " 'triangle',\n",
    " 'icon',\n",
    " 'animate',\n",
    " 'text',\n",
    " 'topleft',\n",
    " 'botright']"
   ]
  },
  {
   "cell_type": "markdown",
   "metadata": {},
   "source": [
    "Attribute Information:\n",
    "\n",
    "1. name: Name of the country concerned\n",
    "2. landmass: 1=N.America, 2=S.America, 3=Europe, 4=Africa, 4=Asia, 6=Oceania\n",
    "3. zone: Geographic quadrant, based on Greenwich and the Equator; 1=NE, 2=SE, 3=SW, 4=NW\n",
    "4. area: in thousands of square km\n",
    "5. population: in round millions\n",
    "6. language: 1=English, 2=Spanish, 3=French, 4=German, 5=Slavic, 6=Other Indo-European, 7=Chinese, 8=Arabic, 9=Japanese/Turkish/Finnish/Magyar, 10=Others\n",
    "7. religion: 0=Catholic, 1=Other Christian, 2=Muslim, 3=Buddhist, 4=Hindu, 5=Ethnic, 6=Marxist, 7=Others\n",
    "8. bars: Number of vertical bars in the flag\n",
    "9. stripes: Number of horizontal stripes in the flag\n",
    "10. colours: Number of different colours in the flag\n",
    "11. red: 0 if red absent, 1 if red present in the flag\n",
    "12. green: same for green\n",
    "13. blue: same for blue\n",
    "14. gold: same for gold (also yellow)\n",
    "15. white: same for white\n",
    "16. black: same for black\n",
    "17. orange: same for orange (also brown)\n",
    "18. mainhue: predominant colour in the flag (tie-breaks decided by taking the topmost hue, if that fails then the most central hue, and if that fails the leftmost hue)\n",
    "19. circles: Number of circles in the flag\n",
    "20. crosses: Number of (upright) crosses\n",
    "21. saltires: Number of diagonal crosses\n",
    "22. quarters: Number of quartered sections\n",
    "23. sunstars: Number of sun or star symbols\n",
    "24. crescent: 1 if a crescent moon symbol present, else 0\n",
    "25. triangle: 1 if any triangles present, 0 otherwise\n",
    "26. icon: 1 if an inanimate image present (e.g., a boat), otherwise 0\n",
    "27. animate: 1 if an animate image (e.g., an eagle, a tree, a human hand) present, 0 otherwise\n",
    "28. text: 1 if any letters or writing on the flag (e.g., a motto or slogan), 0 otherwise\n",
    "29. topleft: colour in the top-left corner (moving right to decide tie-breaks)\n",
    "30. botright: Colour in the bottom-left corner (moving left to decide tie-breaks)"
   ]
  },
  {
   "cell_type": "code",
   "execution_count": 114,
   "metadata": {},
   "outputs": [],
   "source": [
    "# remove names of countries - each row have unique data and it is useless for prediction\n",
    "del(data['name'])"
   ]
  },
  {
   "cell_type": "code",
   "execution_count": 4,
   "metadata": {
    "scrolled": true
   },
   "outputs": [
    {
     "data": {
      "application/vnd.jupyter.widget-view+json": {
       "model_id": "fc332ce934184b4b9709d7e9230f20f9",
       "version_major": 2,
       "version_minor": 0
      },
      "text/plain": [
       "Tab(children=(HTML(value='<div id=\"overview-content\" class=\"row variable spacing\">\\n    <div class=\"row\">\\n   …"
      ]
     },
     "metadata": {},
     "output_type": "display_data"
    },
    {
     "data": {
      "text/html": [
       "Report generated with <a href=\"https://github.com/pandas-profiling/pandas-profiling\">pandas-profiling</a>."
      ],
      "text/plain": [
       "<IPython.core.display.HTML object>"
      ]
     },
     "metadata": {},
     "output_type": "display_data"
    },
    {
     "data": {
      "text/plain": []
     },
     "execution_count": 4,
     "metadata": {},
     "output_type": "execute_result"
    }
   ],
   "source": [
    "ProfileReport(data)"
   ]
  },
  {
   "cell_type": "markdown",
   "metadata": {},
   "source": [
    "A lot of zero values in the column \"population\", because a population is represented in round millions, and many countries don't have even 500k population\n",
    "\n",
    "## Don't run the cell below or model will be bad :)"
   ]
  },
  {
   "cell_type": "code",
   "execution_count": 107,
   "metadata": {},
   "outputs": [],
   "source": [
    "# Remove one of strong correlation features\n",
    "# leave crosses\n",
    "del(data['saltires'])\n",
    "\n",
    "# leave landmass\n",
    "del(data['zone'])\n",
    "del(data['language'])\n",
    "\n",
    "# leave white\n",
    "del(data['gold'])\n",
    "\n",
    "# leave area\n",
    "del(data['population'])"
   ]
  },
  {
   "cell_type": "code",
   "execution_count": 29,
   "metadata": {},
   "outputs": [
    {
     "data": {
      "text/plain": [
       "array(['green', 'red', 'blue', 'gold', 'white', 'orange', 'black',\n",
       "       'brown'], dtype=object)"
      ]
     },
     "execution_count": 29,
     "metadata": {},
     "output_type": "execute_result"
    }
   ],
   "source": [
    "data['mainhue'].unique()"
   ]
  },
  {
   "cell_type": "markdown",
   "metadata": {},
   "source": [
    "**We will use RandomForest as classifier, so we are free to use label encoding** "
   ]
  },
  {
   "cell_type": "code",
   "execution_count": 115,
   "metadata": {},
   "outputs": [],
   "source": [
    "data['topleft'] = data['topleft'].astype(\"category\").cat.codes\n",
    "data['botright'] = data['botright'].astype(\"category\").cat.codes\n",
    "data['mainhue'] = data['mainhue'].astype(\"category\").cat.codes"
   ]
  },
  {
   "cell_type": "code",
   "execution_count": 31,
   "metadata": {},
   "outputs": [
    {
     "data": {
      "application/vnd.jupyter.widget-view+json": {
       "model_id": "9756ad8976eb477fadf57b328045e739",
       "version_major": 2,
       "version_minor": 0
      },
      "text/plain": [
       "Tab(children=(HTML(value='<div id=\"overview-content\" class=\"row variable spacing\">\\n    <div class=\"row\">\\n   …"
      ]
     },
     "metadata": {},
     "output_type": "display_data"
    },
    {
     "data": {
      "text/html": [
       "Report generated with <a href=\"https://github.com/pandas-profiling/pandas-profiling\">pandas-profiling</a>."
      ],
      "text/plain": [
       "<IPython.core.display.HTML object>"
      ]
     },
     "metadata": {},
     "output_type": "display_data"
    },
    {
     "data": {
      "text/plain": []
     },
     "execution_count": 31,
     "metadata": {},
     "output_type": "execute_result"
    }
   ],
   "source": [
    "ProfileReport(data)"
   ]
  },
  {
   "cell_type": "markdown",
   "metadata": {},
   "source": [
    "Strong correlation between icon/animate and colours. Because complex pictures have a lot of colours :) Let's remove colours feature, it has strong correlation with icon/animate, and additionally, we have a standalone feature for every colour."
   ]
  },
  {
   "cell_type": "code",
   "execution_count": 33,
   "metadata": {},
   "outputs": [],
   "source": [
    "# don't run this cell if you want to live :)\n",
    "del(data['colours'])\n",
    "\n",
    "# strong correlation with botright\n",
    "del(data['mainhue'])"
   ]
  },
  {
   "cell_type": "code",
   "execution_count": 116,
   "metadata": {},
   "outputs": [
    {
     "data": {
      "text/html": [
       "<div>\n",
       "<style scoped>\n",
       "    .dataframe tbody tr th:only-of-type {\n",
       "        vertical-align: middle;\n",
       "    }\n",
       "\n",
       "    .dataframe tbody tr th {\n",
       "        vertical-align: top;\n",
       "    }\n",
       "\n",
       "    .dataframe thead tr th {\n",
       "        text-align: left;\n",
       "    }\n",
       "\n",
       "    .dataframe thead tr:last-of-type th {\n",
       "        text-align: right;\n",
       "    }\n",
       "</style>\n",
       "<table border=\"1\" class=\"dataframe\">\n",
       "  <thead>\n",
       "    <tr>\n",
       "      <th></th>\n",
       "      <th>landmass</th>\n",
       "      <th>zone</th>\n",
       "      <th>area</th>\n",
       "      <th>population</th>\n",
       "      <th>language</th>\n",
       "      <th>bars</th>\n",
       "      <th>stripes</th>\n",
       "      <th>colours</th>\n",
       "      <th>red</th>\n",
       "      <th>green</th>\n",
       "      <th>...</th>\n",
       "      <th>saltires</th>\n",
       "      <th>quarters</th>\n",
       "      <th>sunstars</th>\n",
       "      <th>crescent</th>\n",
       "      <th>triangle</th>\n",
       "      <th>icon</th>\n",
       "      <th>animate</th>\n",
       "      <th>text</th>\n",
       "      <th>topleft</th>\n",
       "      <th>botright</th>\n",
       "    </tr>\n",
       "    <tr>\n",
       "      <th></th>\n",
       "      <th>count</th>\n",
       "      <th>count</th>\n",
       "      <th>count</th>\n",
       "      <th>count</th>\n",
       "      <th>count</th>\n",
       "      <th>count</th>\n",
       "      <th>count</th>\n",
       "      <th>count</th>\n",
       "      <th>count</th>\n",
       "      <th>count</th>\n",
       "      <th>...</th>\n",
       "      <th>count</th>\n",
       "      <th>count</th>\n",
       "      <th>count</th>\n",
       "      <th>count</th>\n",
       "      <th>count</th>\n",
       "      <th>count</th>\n",
       "      <th>count</th>\n",
       "      <th>count</th>\n",
       "      <th>count</th>\n",
       "      <th>count</th>\n",
       "    </tr>\n",
       "    <tr>\n",
       "      <th>religion</th>\n",
       "      <th></th>\n",
       "      <th></th>\n",
       "      <th></th>\n",
       "      <th></th>\n",
       "      <th></th>\n",
       "      <th></th>\n",
       "      <th></th>\n",
       "      <th></th>\n",
       "      <th></th>\n",
       "      <th></th>\n",
       "      <th></th>\n",
       "      <th></th>\n",
       "      <th></th>\n",
       "      <th></th>\n",
       "      <th></th>\n",
       "      <th></th>\n",
       "      <th></th>\n",
       "      <th></th>\n",
       "      <th></th>\n",
       "      <th></th>\n",
       "      <th></th>\n",
       "    </tr>\n",
       "  </thead>\n",
       "  <tbody>\n",
       "    <tr>\n",
       "      <td>0</td>\n",
       "      <td>40</td>\n",
       "      <td>40</td>\n",
       "      <td>40</td>\n",
       "      <td>40</td>\n",
       "      <td>40</td>\n",
       "      <td>40</td>\n",
       "      <td>40</td>\n",
       "      <td>40</td>\n",
       "      <td>40</td>\n",
       "      <td>40</td>\n",
       "      <td>...</td>\n",
       "      <td>40</td>\n",
       "      <td>40</td>\n",
       "      <td>40</td>\n",
       "      <td>40</td>\n",
       "      <td>40</td>\n",
       "      <td>40</td>\n",
       "      <td>40</td>\n",
       "      <td>40</td>\n",
       "      <td>40</td>\n",
       "      <td>40</td>\n",
       "    </tr>\n",
       "    <tr>\n",
       "      <td>1</td>\n",
       "      <td>60</td>\n",
       "      <td>60</td>\n",
       "      <td>60</td>\n",
       "      <td>60</td>\n",
       "      <td>60</td>\n",
       "      <td>60</td>\n",
       "      <td>60</td>\n",
       "      <td>60</td>\n",
       "      <td>60</td>\n",
       "      <td>60</td>\n",
       "      <td>...</td>\n",
       "      <td>60</td>\n",
       "      <td>60</td>\n",
       "      <td>60</td>\n",
       "      <td>60</td>\n",
       "      <td>60</td>\n",
       "      <td>60</td>\n",
       "      <td>60</td>\n",
       "      <td>60</td>\n",
       "      <td>60</td>\n",
       "      <td>60</td>\n",
       "    </tr>\n",
       "    <tr>\n",
       "      <td>2</td>\n",
       "      <td>36</td>\n",
       "      <td>36</td>\n",
       "      <td>36</td>\n",
       "      <td>36</td>\n",
       "      <td>36</td>\n",
       "      <td>36</td>\n",
       "      <td>36</td>\n",
       "      <td>36</td>\n",
       "      <td>36</td>\n",
       "      <td>36</td>\n",
       "      <td>...</td>\n",
       "      <td>36</td>\n",
       "      <td>36</td>\n",
       "      <td>36</td>\n",
       "      <td>36</td>\n",
       "      <td>36</td>\n",
       "      <td>36</td>\n",
       "      <td>36</td>\n",
       "      <td>36</td>\n",
       "      <td>36</td>\n",
       "      <td>36</td>\n",
       "    </tr>\n",
       "    <tr>\n",
       "      <td>3</td>\n",
       "      <td>8</td>\n",
       "      <td>8</td>\n",
       "      <td>8</td>\n",
       "      <td>8</td>\n",
       "      <td>8</td>\n",
       "      <td>8</td>\n",
       "      <td>8</td>\n",
       "      <td>8</td>\n",
       "      <td>8</td>\n",
       "      <td>8</td>\n",
       "      <td>...</td>\n",
       "      <td>8</td>\n",
       "      <td>8</td>\n",
       "      <td>8</td>\n",
       "      <td>8</td>\n",
       "      <td>8</td>\n",
       "      <td>8</td>\n",
       "      <td>8</td>\n",
       "      <td>8</td>\n",
       "      <td>8</td>\n",
       "      <td>8</td>\n",
       "    </tr>\n",
       "    <tr>\n",
       "      <td>4</td>\n",
       "      <td>4</td>\n",
       "      <td>4</td>\n",
       "      <td>4</td>\n",
       "      <td>4</td>\n",
       "      <td>4</td>\n",
       "      <td>4</td>\n",
       "      <td>4</td>\n",
       "      <td>4</td>\n",
       "      <td>4</td>\n",
       "      <td>4</td>\n",
       "      <td>...</td>\n",
       "      <td>4</td>\n",
       "      <td>4</td>\n",
       "      <td>4</td>\n",
       "      <td>4</td>\n",
       "      <td>4</td>\n",
       "      <td>4</td>\n",
       "      <td>4</td>\n",
       "      <td>4</td>\n",
       "      <td>4</td>\n",
       "      <td>4</td>\n",
       "    </tr>\n",
       "    <tr>\n",
       "      <td>5</td>\n",
       "      <td>27</td>\n",
       "      <td>27</td>\n",
       "      <td>27</td>\n",
       "      <td>27</td>\n",
       "      <td>27</td>\n",
       "      <td>27</td>\n",
       "      <td>27</td>\n",
       "      <td>27</td>\n",
       "      <td>27</td>\n",
       "      <td>27</td>\n",
       "      <td>...</td>\n",
       "      <td>27</td>\n",
       "      <td>27</td>\n",
       "      <td>27</td>\n",
       "      <td>27</td>\n",
       "      <td>27</td>\n",
       "      <td>27</td>\n",
       "      <td>27</td>\n",
       "      <td>27</td>\n",
       "      <td>27</td>\n",
       "      <td>27</td>\n",
       "    </tr>\n",
       "    <tr>\n",
       "      <td>6</td>\n",
       "      <td>15</td>\n",
       "      <td>15</td>\n",
       "      <td>15</td>\n",
       "      <td>15</td>\n",
       "      <td>15</td>\n",
       "      <td>15</td>\n",
       "      <td>15</td>\n",
       "      <td>15</td>\n",
       "      <td>15</td>\n",
       "      <td>15</td>\n",
       "      <td>...</td>\n",
       "      <td>15</td>\n",
       "      <td>15</td>\n",
       "      <td>15</td>\n",
       "      <td>15</td>\n",
       "      <td>15</td>\n",
       "      <td>15</td>\n",
       "      <td>15</td>\n",
       "      <td>15</td>\n",
       "      <td>15</td>\n",
       "      <td>15</td>\n",
       "    </tr>\n",
       "    <tr>\n",
       "      <td>7</td>\n",
       "      <td>4</td>\n",
       "      <td>4</td>\n",
       "      <td>4</td>\n",
       "      <td>4</td>\n",
       "      <td>4</td>\n",
       "      <td>4</td>\n",
       "      <td>4</td>\n",
       "      <td>4</td>\n",
       "      <td>4</td>\n",
       "      <td>4</td>\n",
       "      <td>...</td>\n",
       "      <td>4</td>\n",
       "      <td>4</td>\n",
       "      <td>4</td>\n",
       "      <td>4</td>\n",
       "      <td>4</td>\n",
       "      <td>4</td>\n",
       "      <td>4</td>\n",
       "      <td>4</td>\n",
       "      <td>4</td>\n",
       "      <td>4</td>\n",
       "    </tr>\n",
       "  </tbody>\n",
       "</table>\n",
       "<p>8 rows × 28 columns</p>\n",
       "</div>"
      ],
      "text/plain": [
       "         landmass  zone  area population language  bars stripes colours   red  \\\n",
       "            count count count      count    count count   count   count count   \n",
       "religion                                                                        \n",
       "0              40    40    40         40       40    40      40      40    40   \n",
       "1              60    60    60         60       60    60      60      60    60   \n",
       "2              36    36    36         36       36    36      36      36    36   \n",
       "3               8     8     8          8        8     8       8       8     8   \n",
       "4               4     4     4          4        4     4       4       4     4   \n",
       "5              27    27    27         27       27    27      27      27    27   \n",
       "6              15    15    15         15       15    15      15      15    15   \n",
       "7               4     4     4          4        4     4       4       4     4   \n",
       "\n",
       "         green  ... saltires quarters sunstars crescent triangle  icon  \\\n",
       "         count  ...    count    count    count    count    count count   \n",
       "religion        ...                                                      \n",
       "0           40  ...       40       40       40       40       40    40   \n",
       "1           60  ...       60       60       60       60       60    60   \n",
       "2           36  ...       36       36       36       36       36    36   \n",
       "3            8  ...        8        8        8        8        8     8   \n",
       "4            4  ...        4        4        4        4        4     4   \n",
       "5           27  ...       27       27       27       27       27    27   \n",
       "6           15  ...       15       15       15       15       15    15   \n",
       "7            4  ...        4        4        4        4        4     4   \n",
       "\n",
       "         animate  text topleft botright  \n",
       "           count count   count    count  \n",
       "religion                                 \n",
       "0             40    40      40       40  \n",
       "1             60    60      60       60  \n",
       "2             36    36      36       36  \n",
       "3              8     8       8        8  \n",
       "4              4     4       4        4  \n",
       "5             27    27      27       27  \n",
       "6             15    15      15       15  \n",
       "7              4     4       4        4  \n",
       "\n",
       "[8 rows x 28 columns]"
      ]
     },
     "execution_count": 116,
     "metadata": {},
     "output_type": "execute_result"
    }
   ],
   "source": [
    "# find out how many rows have each religion\n",
    "\n",
    "data.groupby('religion').agg(['count'])"
   ]
  },
  {
   "cell_type": "markdown",
   "metadata": {},
   "source": [
    "As we can see, there are at least 3 outsiders, which have less data than other religions. I chose a RandomForestClassifier as an estimator for this dataset. This is why I should do something to balance the dataset. But first I will do fit without oversampling. So I can see if my techniques improve results."
   ]
  },
  {
   "cell_type": "code",
   "execution_count": 117,
   "metadata": {},
   "outputs": [],
   "source": [
    "X = data.copy()\n",
    "del(X['religion'])\n",
    "y = data['religion']"
   ]
  },
  {
   "cell_type": "code",
   "execution_count": 7,
   "metadata": {},
   "outputs": [
    {
     "data": {
      "text/plain": [
       "RandomForestClassifier(bootstrap=True, ccp_alpha=0.0, class_weight=None,\n",
       "                       criterion='gini', max_depth=None, max_features='auto',\n",
       "                       max_leaf_nodes=None, max_samples=None,\n",
       "                       min_impurity_decrease=0.0, min_impurity_split=None,\n",
       "                       min_samples_leaf=1, min_samples_split=2,\n",
       "                       min_weight_fraction_leaf=0.0, n_estimators=100,\n",
       "                       n_jobs=None, oob_score=False, random_state=None,\n",
       "                       verbose=0, warm_start=False)"
      ]
     },
     "execution_count": 7,
     "metadata": {},
     "output_type": "execute_result"
    }
   ],
   "source": [
    "model = RandomForestClassifier(n_estimators=100)\n",
    "X_train, X_test, y_train, y_test = train_test_split(X, y, test_size=0.2, random_state=42)\n",
    "model.fit(X_train, y_train)"
   ]
  },
  {
   "cell_type": "code",
   "execution_count": 10,
   "metadata": {},
   "outputs": [],
   "source": [
    "p = model.predict(X_test)"
   ]
  },
  {
   "cell_type": "code",
   "execution_count": 11,
   "metadata": {},
   "outputs": [
    {
     "name": "stdout",
     "output_type": "stream",
     "text": [
      "Accuracy score:  0.6153846153846154\n",
      "F1 score:  0.6153846153846154\n",
      "Precision:  0.6153846153846154\n",
      "Recall:  0.6153846153846154\n"
     ]
    }
   ],
   "source": [
    "print('Accuracy score: ', accuracy_score(y_test, p))\n",
    "print('F1 score: ', f1_score(y_test, p, average='micro'))\n",
    "print('Precision: ', precision_score(y_test, p, average='micro'))\n",
    "print('Recall: ', recall_score(y_test, p, average='micro'))"
   ]
  },
  {
   "cell_type": "markdown",
   "metadata": {},
   "source": [
    "**Awful result!** Was 0.53 when i did this with removing \"strong correlation\". The result is better when we don't remove anything from X, except country name. Maybe oversampling will help to increase the model quality."
   ]
  },
  {
   "cell_type": "markdown",
   "metadata": {},
   "source": [
    "## Random oversampling\n",
    "\n",
    "**Артур, правильно ли я понимаю, что оверсемплить надо только train данные, а test оставлять как есть?**"
   ]
  },
  {
   "cell_type": "code",
   "execution_count": 118,
   "metadata": {},
   "outputs": [],
   "source": [
    "X_train, X_test, y_train, y_test = train_test_split(X, y, test_size=0.2, random_state=42)\n",
    "\n",
    "# oversample\n",
    "sample = RandomOverSampler()\n",
    "X_train, y_train = sample.fit_resample(X_train,y_train)\n",
    "\n",
    "model = RandomForestClassifier(n_estimators=100)\n",
    "model.fit(X_train, y_train)\n",
    "p = model.predict(X_test)"
   ]
  },
  {
   "cell_type": "code",
   "execution_count": 119,
   "metadata": {},
   "outputs": [
    {
     "name": "stdout",
     "output_type": "stream",
     "text": [
      "Accuracy score:  0.6923076923076923\n",
      "F1 score:  0.6923076923076923\n",
      "Precision:  0.6923076923076923\n",
      "Recall:  0.6923076923076923\n"
     ]
    }
   ],
   "source": [
    "print('Accuracy score: ', accuracy_score(y_test, p))\n",
    "print('F1 score: ', f1_score(y_test, p, average='micro'))\n",
    "print('Precision: ', precision_score(y_test, p, average='micro'))\n",
    "print('Recall: ', recall_score(y_test, p, average='micro'))"
   ]
  },
  {
   "cell_type": "markdown",
   "metadata": {},
   "source": [
    "Slight quality increases. Try another approaches."
   ]
  },
  {
   "cell_type": "code",
   "execution_count": 120,
   "metadata": {},
   "outputs": [
    {
     "name": "stdout",
     "output_type": "stream",
     "text": [
      "Accuracy score:  0.6666666666666666\n",
      "F1 score:  0.6666666666666666\n",
      "Precision:  0.6666666666666666\n",
      "Recall:  0.6666666666666666\n"
     ]
    }
   ],
   "source": [
    "X_train, X_test, y_train, y_test = train_test_split(X, y, test_size=0.2, random_state=42)\n",
    "\n",
    "# SMOTE in theory should work not good, because no enough neighbors for two classes\n",
    "sample = SMOTE(k_neighbors=1)\n",
    "X_train, y_train = sample.fit_resample(X_train,y_train)\n",
    "\n",
    "model = RandomForestClassifier(n_estimators=100)\n",
    "model.fit(X_train, y_train)\n",
    "p = model.predict(X_test)\n",
    "\n",
    "print('Accuracy score: ', accuracy_score(y_test, p))\n",
    "print('F1 score: ', f1_score(y_test, p, average='micro'))\n",
    "print('Precision: ', precision_score(y_test, p, average='micro'))\n",
    "print('Recall: ', recall_score(y_test, p, average='micro'))"
   ]
  },
  {
   "cell_type": "markdown",
   "metadata": {},
   "source": [
    "Better. Unfortunatelly, I was not able to run ADASYN on this data"
   ]
  },
  {
   "cell_type": "markdown",
   "metadata": {},
   "source": [
    "# Cross validate"
   ]
  },
  {
   "cell_type": "code",
   "execution_count": 121,
   "metadata": {},
   "outputs": [
    {
     "name": "stdout",
     "output_type": "stream",
     "text": [
      "Fold # 1\n",
      "Accuracy score:  0.6461538461538462\n",
      "F1 score:  0.6461538461538462\n",
      "Precision:  0.6461538461538462\n",
      "Recall:  0.6461538461538462\n",
      "Fold # 2\n",
      "Accuracy score:  0.5846153846153846\n",
      "F1 score:  0.5846153846153846\n",
      "Precision:  0.5846153846153846\n",
      "Recall:  0.5846153846153846\n",
      "Fold # 3\n",
      "Accuracy score:  0.65625\n",
      "F1 score:  0.65625\n",
      "Precision:  0.65625\n",
      "Recall:  0.65625\n"
     ]
    }
   ],
   "source": [
    "kf = KFold(n_splits=3)\n",
    "i = 0\n",
    "\n",
    "for train, test in kf.split(X):\n",
    "    i+=1\n",
    "    X_train, X_test = X.values[train], X.values[test]\n",
    "    y_train, y_test = y.values[train], y.values[test]\n",
    "    \n",
    "    X_train, y_train = sample.fit_resample(X_train,y_train)\n",
    "    \n",
    "    model.fit(X_train, y_train)\n",
    "    p = model.predict(X_test)\n",
    "    \n",
    "    print('Fold #', i)\n",
    "    print('Accuracy score: ', accuracy_score(y_test, p))\n",
    "    print('F1 score: ', f1_score(y_test, p, average='micro'))\n",
    "    print('Precision: ', precision_score(y_test, p, average='micro'))\n",
    "    print('Recall: ', recall_score(y_test, p, average='micro'))"
   ]
  },
  {
   "cell_type": "markdown",
   "metadata": {},
   "source": [
    "# Feature Importance"
   ]
  },
  {
   "cell_type": "code",
   "execution_count": 69,
   "metadata": {},
   "outputs": [
    {
     "data": {
      "image/png": "[encoded data removed]",
      "text/plain": [
       "<Figure size 1440x1440 with 1 Axes>"
      ]
     },
     "metadata": {},
     "output_type": "display_data"
    }
   ],
   "source": [
    "importance = model.feature_importances_\n",
    "rcParams['figure.figsize'] = 20, 20\n",
    "plt.style.use(\"cyberpunk\")\n",
    "plt.figure()\n",
    "plt.title(\"Feature importances\")\n",
    "plt.barh(X_s.columns, importance)\n",
    "\n",
    "plt.show()"
   ]
  },
  {
   "cell_type": "markdown",
   "metadata": {},
   "source": [
    "# Confusion Matrix"
   ]
  },
  {
   "cell_type": "code",
   "execution_count": 122,
   "metadata": {},
   "outputs": [],
   "source": [
    "model = RandomForestClassifier(n_estimators=100)\n",
    "\n",
    "X_train, X_test, y_train, y_test = train_test_split(X, y, test_size=0.2, random_state=42)\n",
    "X_train, y_train = sample.fit_resample(X_train,y_train)\n",
    "model.fit(X_train, y_train)\n",
    "p = model.predict(X_test)\n",
    "\n",
    "cm = confusion_matrix(y_test, p)"
   ]
  },
  {
   "cell_type": "code",
   "execution_count": 123,
   "metadata": {},
   "outputs": [
    {
     "data": {
      "text/plain": [
       "array([[ 5,  0,  0,  0,  0,  0,  0,  0],\n",
       "       [ 0, 12,  2,  0,  0,  2,  0,  0],\n",
       "       [ 0,  0,  1,  0,  0,  2,  0,  1],\n",
       "       [ 0,  0,  0,  1,  0,  0,  0,  0],\n",
       "       [ 0,  1,  0,  0,  0,  1,  0,  0],\n",
       "       [ 0,  0,  2,  0,  0,  4,  0,  0],\n",
       "       [ 1,  1,  0,  2,  0,  0,  1,  0],\n",
       "       [ 0,  0,  0,  0,  0,  0,  0,  0]], dtype=int64)"
      ]
     },
     "execution_count": 123,
     "metadata": {},
     "output_type": "execute_result"
    }
   ],
   "source": [
    "cm"
   ]
  },
  {
   "cell_type": "code",
   "execution_count": 124,
   "metadata": {},
   "outputs": [
    {
     "data": {
      "text/plain": [
       "<sklearn.metrics._plot.confusion_matrix.ConfusionMatrixDisplay at 0x257018d2dc8>"
      ]
     },
     "execution_count": 124,
     "metadata": {},
     "output_type": "execute_result"
    },
    {
     "data": {
      "image/png": "[encoded data removed]",
      "text/plain": [
       "<Figure size 1440x1440 with 2 Axes>"
      ]
     },
     "metadata": {},
     "output_type": "display_data"
    }
   ],
   "source": [
    "plt.style.use(\"seaborn-dark\")\n",
    "ConfusionMatrixDisplay(cm, ['Catholic', 'Other Christian', 'Muslim', 'Buddhist', 'Hindu', 'Ethnic', 'Marxist', 'Others']).plot()"
   ]
  },
  {
   "cell_type": "code",
   "execution_count": null,
   "metadata": {},
   "outputs": [],
   "source": []
  }
 ],
 "metadata": {
  "kernelspec": {
   "display_name": "Python 3",
   "language": "python",
   "name": "python3"
  },
  "language_info": {
   "codemirror_mode": {
    "name": "ipython",
    "version": 3
   },
   "file_extension": ".py",
   "mimetype": "text/x-python",
   "name": "python",
   "nbconvert_exporter": "python",
   "pygments_lexer": "ipython3",
   "version": "3.7.4"
  }
 },
 "nbformat": 4,
 "nbformat_minor": 2
}
